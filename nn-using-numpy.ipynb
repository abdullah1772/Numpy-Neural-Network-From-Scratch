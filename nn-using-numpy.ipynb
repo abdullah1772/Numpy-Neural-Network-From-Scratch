{
 "cells": [
  {
   "cell_type": "code",
   "execution_count": 1,
   "metadata": {
    "_cell_guid": "b1076dfc-b9ad-4769-8c92-a6c4dae69d19",
    "_uuid": "8f2839f25d086af736a60e9eeb907d3b93b6e0e5",
    "execution": {
     "iopub.execute_input": "2022-12-21T16:16:39.081482Z",
     "iopub.status.busy": "2022-12-21T16:16:39.080498Z",
     "iopub.status.idle": "2022-12-21T16:16:39.090931Z",
     "shell.execute_reply": "2022-12-21T16:16:39.090119Z",
     "shell.execute_reply.started": "2022-12-21T16:16:39.081401Z"
    }
   },
   "outputs": [],
   "source": [
    "import numpy as np \n",
    "import pandas as pd \n",
    "from random import randrange as rand\n",
    "from matplotlib import pyplot as plt"
   ]
  },
  {
   "cell_type": "code",
   "execution_count": 2,
   "metadata": {
    "execution": {
     "iopub.execute_input": "2022-12-21T16:16:39.098550Z",
     "iopub.status.busy": "2022-12-21T16:16:39.098268Z",
     "iopub.status.idle": "2022-12-21T16:16:40.925915Z",
     "shell.execute_reply": "2022-12-21T16:16:40.924904Z",
     "shell.execute_reply.started": "2022-12-21T16:16:39.098500Z"
    }
   },
   "outputs": [],
   "source": [
    "from keras.datasets import mnist\n",
    "(X_train, Y_train), (X_test, Y_test) = mnist.load_data()"
   ]
  },
  {
   "cell_type": "code",
   "execution_count": 3,
   "metadata": {
    "execution": {
     "iopub.execute_input": "2022-12-21T16:16:40.928544Z",
     "iopub.status.busy": "2022-12-21T16:16:40.927311Z",
     "iopub.status.idle": "2022-12-21T16:16:41.068601Z",
     "shell.execute_reply": "2022-12-21T16:16:41.067502Z",
     "shell.execute_reply.started": "2022-12-21T16:16:40.928504Z"
    }
   },
   "outputs": [],
   "source": [
    "# Preprocess the data\n",
    "X_train = X_train.reshape(-1, 28*28) / 255.0\n",
    "X_test = X_test.reshape(-1, 28*28) / 255.0"
   ]
  },
  {
   "cell_type": "code",
   "execution_count": 4,
   "metadata": {
    "execution": {
     "iopub.execute_input": "2022-12-21T16:16:41.072703Z",
     "iopub.status.busy": "2022-12-21T16:16:41.072268Z",
     "iopub.status.idle": "2022-12-21T16:16:41.077925Z",
     "shell.execute_reply": "2022-12-21T16:16:41.076865Z",
     "shell.execute_reply.started": "2022-12-21T16:16:41.072664Z"
    }
   },
   "outputs": [],
   "source": [
    "X_train = X_train.T\n",
    "X_test = X_test.T\n",
    "Y_train = Y_train.T\n",
    "Y_test = Y_test.T"
   ]
  },
  {
   "cell_type": "code",
   "execution_count": 5,
   "metadata": {
    "execution": {
     "iopub.execute_input": "2022-12-21T16:16:41.080088Z",
     "iopub.status.busy": "2022-12-21T16:16:41.079723Z",
     "iopub.status.idle": "2022-12-21T16:16:41.090262Z",
     "shell.execute_reply": "2022-12-21T16:16:41.089175Z",
     "shell.execute_reply.started": "2022-12-21T16:16:41.080036Z"
    }
   },
   "outputs": [
    {
     "name": "stdout",
     "output_type": "stream",
     "text": [
      "X_train (784, 60000)\n",
      "X_test (784, 10000)\n",
      "Y_train (60000,)\n",
      "Y_test (10000,)\n"
     ]
    }
   ],
   "source": [
    "print(\"X_train\" , X_train.shape)\n",
    "print(\"X_test\" , X_test.shape)\n",
    "print(\"Y_train\" , Y_train.shape)\n",
    "print(\"Y_test\" , Y_test.shape)"
   ]
  },
  {
   "cell_type": "code",
   "execution_count": 6,
   "metadata": {
    "execution": {
     "iopub.execute_input": "2022-12-21T16:16:41.092368Z",
     "iopub.status.busy": "2022-12-21T16:16:41.091570Z",
     "iopub.status.idle": "2022-12-21T16:16:41.097815Z",
     "shell.execute_reply": "2022-12-21T16:16:41.096742Z",
     "shell.execute_reply.started": "2022-12-21T16:16:41.092332Z"
    }
   },
   "outputs": [],
   "source": [
    "current_image = X_train[:, 5, None]"
   ]
  },
  {
   "cell_type": "code",
   "execution_count": 7,
   "metadata": {
    "execution": {
     "iopub.execute_input": "2022-12-21T16:16:41.099919Z",
     "iopub.status.busy": "2022-12-21T16:16:41.099294Z",
     "iopub.status.idle": "2022-12-21T16:16:41.111810Z",
     "shell.execute_reply": "2022-12-21T16:16:41.110573Z",
     "shell.execute_reply.started": "2022-12-21T16:16:41.099882Z"
    }
   },
   "outputs": [
    {
     "data": {
      "text/plain": [
       "(784, 1)"
      ]
     },
     "execution_count": 7,
     "metadata": {},
     "output_type": "execute_result"
    }
   ],
   "source": [
    "current_image.shape"
   ]
  },
  {
   "cell_type": "code",
   "execution_count": 8,
   "metadata": {
    "execution": {
     "iopub.execute_input": "2022-12-21T16:16:41.114426Z",
     "iopub.status.busy": "2022-12-21T16:16:41.113733Z",
     "iopub.status.idle": "2022-12-21T16:16:41.306048Z",
     "shell.execute_reply": "2022-12-21T16:16:41.305124Z",
     "shell.execute_reply.started": "2022-12-21T16:16:41.114238Z"
    }
   },
   "outputs": [
    {
     "data": {
      "image/png": "[encoded data removed]",
      "text/plain": [
       "<Figure size 432x288 with 1 Axes>"
      ]
     },
     "metadata": {
      "needs_background": "light"
     },
     "output_type": "display_data"
    }
   ],
   "source": [
    "current_image = current_image.reshape((28, 28)) * 255\n",
    "plt.gray()\n",
    "plt.imshow(current_image, interpolation='nearest')\n",
    "plt.show()"
   ]
  },
  {
   "cell_type": "code",
   "execution_count": 9,
   "metadata": {
    "execution": {
     "iopub.execute_input": "2022-12-21T16:16:41.308092Z",
     "iopub.status.busy": "2022-12-21T16:16:41.307479Z",
     "iopub.status.idle": "2022-12-21T16:16:41.316191Z",
     "shell.execute_reply": "2022-12-21T16:16:41.315269Z",
     "shell.execute_reply.started": "2022-12-21T16:16:41.308038Z"
    }
   },
   "outputs": [],
   "source": [
    "def sigmoid(x):\n",
    "    return 1 / (1 + np.exp(-x))\n",
    "\n",
    "def sigmoid_derivative(x):\n",
    "    return np.multiply(sigmoid(x),(1-sigmoid(x)))"
   ]
  },
  {
   "cell_type": "code",
   "execution_count": 10,
   "metadata": {
    "execution": {
     "iopub.execute_input": "2022-12-21T16:16:41.317967Z",
     "iopub.status.busy": "2022-12-21T16:16:41.317581Z",
     "iopub.status.idle": "2022-12-21T16:16:41.325418Z",
     "shell.execute_reply": "2022-12-21T16:16:41.324369Z",
     "shell.execute_reply.started": "2022-12-21T16:16:41.317928Z"
    }
   },
   "outputs": [
    {
     "name": "stdout",
     "output_type": "stream",
     "text": [
      "Expected output = 0.26894142, 0.5, 0.73105858\n",
      "[0.26894142 0.5        0.73105858]\n"
     ]
    }
   ],
   "source": [
    "# Test the sigmoid function\n",
    "x = np.array([-1, 0, 1])\n",
    "# Calculated the output using sigmaid calculator and it was [0.19661193, 0.25, 0.19661193]\n",
    "#let's see what our fuction returns \n",
    "print(\"Expected output = 0.26894142, 0.5, 0.73105858\")\n",
    "sig = sigmoid(x)\n",
    "print(sig)"
   ]
  },
  {
   "cell_type": "code",
   "execution_count": 11,
   "metadata": {
    "execution": {
     "iopub.execute_input": "2022-12-21T16:16:41.327775Z",
     "iopub.status.busy": "2022-12-21T16:16:41.327027Z",
     "iopub.status.idle": "2022-12-21T16:16:41.513933Z",
     "shell.execute_reply": "2022-12-21T16:16:41.512997Z",
     "shell.execute_reply.started": "2022-12-21T16:16:41.327740Z"
    }
   },
   "outputs": [
    {
     "data": {
      "image/png": "[encoded data removed]",
      "text/plain": [
       "<Figure size 432x288 with 1 Axes>"
      ]
     },
     "metadata": {
      "needs_background": "light"
     },
     "output_type": "display_data"
    }
   ],
   "source": [
    "plt.plot(x, sig)\n",
    "plt.show()"
   ]
  },
  {
   "cell_type": "code",
   "execution_count": 12,
   "metadata": {
    "execution": {
     "iopub.execute_input": "2022-12-21T16:16:41.516300Z",
     "iopub.status.busy": "2022-12-21T16:16:41.515609Z",
     "iopub.status.idle": "2022-12-21T16:16:41.522825Z",
     "shell.execute_reply": "2022-12-21T16:16:41.521762Z",
     "shell.execute_reply.started": "2022-12-21T16:16:41.516261Z"
    }
   },
   "outputs": [
    {
     "name": "stdout",
     "output_type": "stream",
     "text": [
      "Expected output = 0.19661193, 0.25, 0.19661193\n",
      "[0.19661193 0.25       0.19661193]\n"
     ]
    }
   ],
   "source": [
    "# Test the sigmoid_backward function\n",
    "dout = np.array([1, 1, 1])\n",
    "print(\"Expected output = 0.19661193, 0.25, 0.19661193\")\n",
    "print(sigmoid_derivative(x)) "
   ]
  },
  {
   "cell_type": "code",
   "execution_count": 13,
   "metadata": {
    "execution": {
     "iopub.execute_input": "2022-12-21T16:16:41.531493Z",
     "iopub.status.busy": "2022-12-21T16:16:41.530802Z",
     "iopub.status.idle": "2022-12-21T16:16:41.537296Z",
     "shell.execute_reply": "2022-12-21T16:16:41.536249Z",
     "shell.execute_reply.started": "2022-12-21T16:16:41.531455Z"
    }
   },
   "outputs": [],
   "source": [
    "def relu(x):\n",
    "    return np.maximum(0, x)\n",
    "\n",
    "def relu_derivative(Z):\n",
    "    return Z > 0\n",
    "\n",
    "def relu_backward(dout, x):\n",
    "    dx = dout.copy()\n",
    "    dx[x <= 0] = 0\n",
    "    return dx"
   ]
  },
  {
   "cell_type": "code",
   "execution_count": 14,
   "metadata": {
    "execution": {
     "iopub.execute_input": "2022-12-21T16:16:41.539442Z",
     "iopub.status.busy": "2022-12-21T16:16:41.539044Z",
     "iopub.status.idle": "2022-12-21T16:16:41.551210Z",
     "shell.execute_reply": "2022-12-21T16:16:41.550114Z",
     "shell.execute_reply.started": "2022-12-21T16:16:41.539408Z"
    }
   },
   "outputs": [
    {
     "name": "stdout",
     "output_type": "stream",
     "text": [
      "Expected output = 0, 0, 1]\n",
      "[0 0 1]\n"
     ]
    }
   ],
   "source": [
    "# Test the relu function\n",
    "x = np.array([-1, 0, 1])\n",
    "print(\"Expected output = 0, 0, 1]\")\n",
    "re = relu(x)\n",
    "print(re) "
   ]
  },
  {
   "cell_type": "code",
   "execution_count": 15,
   "metadata": {
    "execution": {
     "iopub.execute_input": "2022-12-21T16:16:41.552862Z",
     "iopub.status.busy": "2022-12-21T16:16:41.552565Z",
     "iopub.status.idle": "2022-12-21T16:16:41.740935Z",
     "shell.execute_reply": "2022-12-21T16:16:41.740086Z",
     "shell.execute_reply.started": "2022-12-21T16:16:41.552836Z"
    }
   },
   "outputs": [
    {
     "data": {
      "image/png": "[encoded data removed]",
      "text/plain": [
       "<Figure size 432x288 with 1 Axes>"
      ]
     },
     "metadata": {
      "needs_background": "light"
     },
     "output_type": "display_data"
    }
   ],
   "source": [
    "plt.plot(x, re)\n",
    "plt.show()"
   ]
  },
  {
   "cell_type": "code",
   "execution_count": 16,
   "metadata": {
    "execution": {
     "iopub.execute_input": "2022-12-21T16:16:41.742563Z",
     "iopub.status.busy": "2022-12-21T16:16:41.742244Z",
     "iopub.status.idle": "2022-12-21T16:16:41.748470Z",
     "shell.execute_reply": "2022-12-21T16:16:41.747249Z",
     "shell.execute_reply.started": "2022-12-21T16:16:41.742536Z"
    }
   },
   "outputs": [
    {
     "name": "stdout",
     "output_type": "stream",
     "text": [
      "Expected output = 0, 0, 1]\n",
      "[0 0 1]\n"
     ]
    }
   ],
   "source": [
    "# Test the relu_backward function\n",
    "dout = np.array([1, 1, 1])\n",
    "print(\"Expected output = 0, 0, 1]\")\n",
    "print(relu_backward(dout, x)) "
   ]
  },
  {
   "cell_type": "code",
   "execution_count": 17,
   "metadata": {
    "execution": {
     "iopub.execute_input": "2022-12-21T16:16:41.751367Z",
     "iopub.status.busy": "2022-12-21T16:16:41.750391Z",
     "iopub.status.idle": "2022-12-21T16:16:41.756639Z",
     "shell.execute_reply": "2022-12-21T16:16:41.755543Z",
     "shell.execute_reply.started": "2022-12-21T16:16:41.751329Z"
    }
   },
   "outputs": [],
   "source": [
    "def softmax(Z):\n",
    "    A = np.exp(Z) / sum(np.exp(Z))\n",
    "    return A"
   ]
  },
  {
   "cell_type": "code",
   "execution_count": 18,
   "metadata": {
    "execution": {
     "iopub.execute_input": "2022-12-21T16:16:41.759285Z",
     "iopub.status.busy": "2022-12-21T16:16:41.758393Z",
     "iopub.status.idle": "2022-12-21T16:16:41.766854Z",
     "shell.execute_reply": "2022-12-21T16:16:41.765709Z",
     "shell.execute_reply.started": "2022-12-21T16:16:41.759249Z"
    }
   },
   "outputs": [],
   "source": [
    "def derivative_of_softmax(x):\n",
    "    exp_element=np.exp(x-x.max())\n",
    "    return exp_element/np.sum(exp_element,axis=0)*(1-exp_element/np.sum(exp_element,axis=0))"
   ]
  },
  {
   "cell_type": "code",
   "execution_count": 19,
   "metadata": {
    "execution": {
     "iopub.execute_input": "2022-12-21T16:16:41.769055Z",
     "iopub.status.busy": "2022-12-21T16:16:41.768774Z",
     "iopub.status.idle": "2022-12-21T16:16:41.778833Z",
     "shell.execute_reply": "2022-12-21T16:16:41.777873Z",
     "shell.execute_reply.started": "2022-12-21T16:16:41.769014Z"
    }
   },
   "outputs": [
    {
     "name": "stdout",
     "output_type": "stream",
     "text": [
      "Expected output = [0.09003057, 0.24472847, 0.66524096], [0.09003057, 0.24472847, 0.66524096]\n",
      "[[0.5 0.5 0.5]\n",
      " [0.5 0.5 0.5]]\n",
      "1.0\n"
     ]
    }
   ],
   "source": [
    "x = np.array([[1, 2, 3], [1, 2, 3]])\n",
    "print(\"Expected output = [0.09003057, 0.24472847, 0.66524096], [0.09003057, 0.24472847, 0.66524096]\")\n",
    "print(softmax(x))\n",
    "prob_sum = 0.09003057 + 0.24472847 + 0.66524096\n",
    "print(prob_sum)"
   ]
  },
  {
   "cell_type": "code",
   "execution_count": 20,
   "metadata": {
    "execution": {
     "iopub.execute_input": "2022-12-21T16:16:41.780898Z",
     "iopub.status.busy": "2022-12-21T16:16:41.780329Z",
     "iopub.status.idle": "2022-12-21T16:16:41.786100Z",
     "shell.execute_reply": "2022-12-21T16:16:41.785137Z",
     "shell.execute_reply.started": "2022-12-21T16:16:41.780863Z"
    }
   },
   "outputs": [],
   "source": [
    "def dropout(x, p):\n",
    "    if p < 1:\n",
    "        mask = np.random.binomial(1, p, size=x.shape) / p\n",
    "        x *= mask\n",
    "    return x"
   ]
  },
  {
   "cell_type": "code",
   "execution_count": 21,
   "metadata": {
    "execution": {
     "iopub.execute_input": "2022-12-21T16:16:41.788138Z",
     "iopub.status.busy": "2022-12-21T16:16:41.787436Z",
     "iopub.status.idle": "2022-12-21T16:16:41.795255Z",
     "shell.execute_reply": "2022-12-21T16:16:41.794245Z",
     "shell.execute_reply.started": "2022-12-21T16:16:41.788101Z"
    }
   },
   "outputs": [
    {
     "name": "stdout",
     "output_type": "stream",
     "text": [
      "[0. 0. 0.]\n"
     ]
    }
   ],
   "source": [
    "# Test the relu function with dropout layer\n",
    "x = np.array([-1.0, 0.0, 1.0])\n",
    "y = relu(x)\n",
    "y = dropout(y, p=0.5)\n",
    "print(y) "
   ]
  },
  {
   "cell_type": "code",
   "execution_count": 22,
   "metadata": {
    "execution": {
     "iopub.execute_input": "2022-12-21T16:16:41.797305Z",
     "iopub.status.busy": "2022-12-21T16:16:41.796685Z",
     "iopub.status.idle": "2022-12-21T16:16:41.803722Z",
     "shell.execute_reply": "2022-12-21T16:16:41.802765Z",
     "shell.execute_reply.started": "2022-12-21T16:16:41.797269Z"
    }
   },
   "outputs": [
    {
     "name": "stdout",
     "output_type": "stream",
     "text": [
      "[0. 0. 0.]\n"
     ]
    }
   ],
   "source": [
    "# Test the sigmoid function with dropout layer\n",
    "x = np.array([-1.0, 0.0, 1.0])\n",
    "y = sigmoid(x)\n",
    "y = dropout(y, p=0.5)\n",
    "print(y) "
   ]
  },
  {
   "cell_type": "code",
   "execution_count": 23,
   "metadata": {
    "execution": {
     "iopub.execute_input": "2022-12-21T16:16:41.805855Z",
     "iopub.status.busy": "2022-12-21T16:16:41.805159Z",
     "iopub.status.idle": "2022-12-21T16:16:41.810510Z",
     "shell.execute_reply": "2022-12-21T16:16:41.809546Z",
     "shell.execute_reply.started": "2022-12-21T16:16:41.805819Z"
    }
   },
   "outputs": [],
   "source": [
    "# Define the model\n",
    "input_size = 784  # 28x28 input size\n",
    "hidden_size = 50  # Number of hidden units\n",
    "output_size = 10  # 10 output classes\n",
    "num_of_classes = 10"
   ]
  },
  {
   "cell_type": "code",
   "execution_count": 24,
   "metadata": {
    "execution": {
     "iopub.execute_input": "2022-12-21T16:16:41.812524Z",
     "iopub.status.busy": "2022-12-21T16:16:41.811925Z",
     "iopub.status.idle": "2022-12-21T16:16:41.819648Z",
     "shell.execute_reply": "2022-12-21T16:16:41.818599Z",
     "shell.execute_reply.started": "2022-12-21T16:16:41.812487Z"
    }
   },
   "outputs": [],
   "source": [
    "# Initialize the weights and biases\n",
    "def parameters():\n",
    "    W1 = np.random.rand(num_of_classes, input_size) - 0.5\n",
    "    b1 = np.random.rand(num_of_classes, 1) - 0.5\n",
    "    W2 = np.random.rand(num_of_classes, output_size) - 0.5\n",
    "    b2 = np.random.rand(num_of_classes, 1) - 0.5\n",
    "    return W1, b1, W2, b2 "
   ]
  },
  {
   "cell_type": "code",
   "execution_count": 25,
   "metadata": {
    "execution": {
     "iopub.execute_input": "2022-12-21T16:16:41.821857Z",
     "iopub.status.busy": "2022-12-21T16:16:41.821205Z",
     "iopub.status.idle": "2022-12-21T16:16:41.973740Z",
     "shell.execute_reply": "2022-12-21T16:16:41.972545Z",
     "shell.execute_reply.started": "2022-12-21T16:16:41.821822Z"
    }
   },
   "outputs": [],
   "source": [
    "def one_hot_encoding(Y):\n",
    "    one_hot_Y = np.zeros((Y.size, Y.max() + 1))\n",
    "    one_hot_Y[np.arange(Y.size), Y] = 1\n",
    "    one_hot_Y = one_hot_Y.T\n",
    "    return one_hot_Y"
   ]
  },
  {
   "cell_type": "code",
   "execution_count": 26,
   "metadata": {
    "execution": {
     "iopub.execute_input": "2022-12-21T16:16:41.975840Z",
     "iopub.status.busy": "2022-12-21T16:16:41.975366Z",
     "iopub.status.idle": "2022-12-21T16:16:41.986206Z",
     "shell.execute_reply": "2022-12-21T16:16:41.985241Z",
     "shell.execute_reply.started": "2022-12-21T16:16:41.975805Z"
    }
   },
   "outputs": [],
   "source": [
    "def SGD(W1, b1, W2, b2, dW1, db1, dW2, db2, alpha):\n",
    "    W1 = W1 - alpha * dW1\n",
    "    b1 = b1 - alpha * db1    \n",
    "    W2 = W2 - alpha * dW2  \n",
    "    b2 = b2 - alpha * db2    \n",
    "    return W1, b1, W2, b2"
   ]
  },
  {
   "cell_type": "code",
   "execution_count": 27,
   "metadata": {
    "execution": {
     "iopub.execute_input": "2022-12-21T16:16:41.988158Z",
     "iopub.status.busy": "2022-12-21T16:16:41.987846Z",
     "iopub.status.idle": "2022-12-21T16:16:42.001372Z",
     "shell.execute_reply": "2022-12-21T16:16:42.000474Z",
     "shell.execute_reply.started": "2022-12-21T16:16:41.988118Z"
    }
   },
   "outputs": [],
   "source": [
    "def gradient_descent(X, Y, alpha, iterations, m):\n",
    "    W1, b1, W2, b2 = parameters()\n",
    "    iters = []\n",
    "    accuracies = []\n",
    "    wait_for = 5\n",
    "    max_accuracy = 0.0\n",
    "    epoch_without_change = 0\n",
    "    for i in range(iterations):\n",
    "        m1, n1, m2, n2 = forward_pass(W1, b1, W2, b2, X)\n",
    "        dW1, db1, dW2, db2 = backward_pass(m1, n1, m2, n2, W1, W2, X, Y,m)\n",
    "        W1, b1, W2, b2 = SGD(W1, b1, W2, b2, dW1, db1, dW2, db2, alpha)\n",
    "        if i % 50 == 0:\n",
    "            print(\"Iteration: \", i)\n",
    "            predictions = np.argmax(n2, 0)\n",
    "            accuracy = (np.sum(predictions == Y) / Y.size)\n",
    "            print(accuracy)\n",
    "            #Early stopping condition\n",
    "            if(abs(max_accuracy - accuracy) < 0.02):\n",
    "                epoch_without_change = epoch_without_change + 1\n",
    "                if(epoch_without_change == wait_for):\n",
    "                    iters.append(i)\n",
    "                    accuracies.append(accuracy)\n",
    "                    print(\"Model is not improving at a rapid rate, stopping early\")\n",
    "                    print(\"Model accuracy is = \" , 100 * accuracy)\n",
    "                    return W1, b1, W2, b2 , iters , accuracies \n",
    "            else:\n",
    "                epoch_without_change = 0\n",
    "            max_accuracy = accuracy\n",
    "            iters.append(i)\n",
    "            accuracies.append(accuracy)\n",
    "    print(\"Model accuracy is = \" , 100 * accuracy)\n",
    "    return W1, b1, W2, b2 , iters , accuracies "
   ]
  },
  {
   "cell_type": "markdown",
   "metadata": {},
   "source": [
    "**NN with RELU only**"
   ]
  },
  {
   "cell_type": "code",
   "execution_count": 28,
   "metadata": {
    "execution": {
     "iopub.execute_input": "2022-12-21T16:16:42.003261Z",
     "iopub.status.busy": "2022-12-21T16:16:42.002882Z",
     "iopub.status.idle": "2022-12-21T16:16:42.013119Z",
     "shell.execute_reply": "2022-12-21T16:16:42.012033Z",
     "shell.execute_reply.started": "2022-12-21T16:16:42.003226Z"
    }
   },
   "outputs": [],
   "source": [
    "def forward_pass(W1, b1, W2, b2, X):\n",
    "    m1 = W1.dot(X) + b1\n",
    "    n1 = relu(m1)\n",
    "    m2 = W2.dot(n1) + b2\n",
    "    n2 = softmax(m2)\n",
    "    return m1, n1, m2, n2\n",
    "\n",
    "\n",
    "def backward_pass(Z1, A1, Z2, A2, W1, W2, X, Y ,m):\n",
    "    one_hot_Y = one_hot_encoding(Y)\n",
    "    dZ2 = A2 - one_hot_Y\n",
    "    dW2 = 1 / m * dZ2.dot(A1.T)\n",
    "    db2 = 1 / m * np.sum(dZ2)\n",
    "    dZ1 = W2.T.dot(dZ2) * relu_derivative(Z1)\n",
    "    dW1 = 1 / m * dZ1.dot(X.T)\n",
    "    db1 = 1 / m * np.sum(dZ1)\n",
    "    return dW1, db1, dW2, db2"
   ]
  },
  {
   "cell_type": "code",
   "execution_count": 29,
   "metadata": {
    "execution": {
     "iopub.execute_input": "2022-12-21T16:16:42.014901Z",
     "iopub.status.busy": "2022-12-21T16:16:42.014436Z",
     "iopub.status.idle": "2022-12-21T16:18:58.118726Z",
     "shell.execute_reply": "2022-12-21T16:18:58.117592Z",
     "shell.execute_reply.started": "2022-12-21T16:16:42.014865Z"
    }
   },
   "outputs": [
    {
     "name": "stdout",
     "output_type": "stream",
     "text": [
      "Iteration:  0\n",
      "0.1073\n",
      "Iteration:  50\n",
      "0.30595\n",
      "Iteration:  100\n",
      "0.43855\n",
      "Iteration:  150\n",
      "0.5768166666666666\n",
      "Iteration:  200\n",
      "0.6649333333333334\n",
      "Iteration:  250\n",
      "0.7198166666666667\n",
      "Iteration:  300\n",
      "0.7571333333333333\n",
      "Iteration:  350\n",
      "0.7816166666666666\n",
      "Iteration:  400\n",
      "0.8003\n",
      "Iteration:  450\n",
      "0.8129833333333333\n",
      "Iteration:  500\n",
      "0.8223166666666667\n",
      "Iteration:  550\n",
      "0.8299833333333333\n",
      "Iteration:  600\n",
      "0.8363\n",
      "Model is not improving at a rapid rate, stopping early\n",
      "Model accuracy is =  83.63000000000001\n"
     ]
    }
   ],
   "source": [
    "alpha = 0.1\n",
    "m = 60000\n",
    "iterations = 1000\n",
    "W1, b1, W2, b2, iters,accuracies = gradient_descent(X_train, Y_train, alpha, iterations , m)"
   ]
  },
  {
   "cell_type": "code",
   "execution_count": 30,
   "metadata": {
    "execution": {
     "iopub.execute_input": "2022-12-21T16:18:58.122578Z",
     "iopub.status.busy": "2022-12-21T16:18:58.121116Z",
     "iopub.status.idle": "2022-12-21T16:18:58.409787Z",
     "shell.execute_reply": "2022-12-21T16:18:58.408903Z",
     "shell.execute_reply.started": "2022-12-21T16:18:58.122538Z"
    }
   },
   "outputs": [
    {
     "data": {
      "image/png": "[encoded data removed]",
      "text/plain": [
       "<Figure size 432x288 with 1 Axes>"
      ]
     },
     "metadata": {
      "needs_background": "light"
     },
     "output_type": "display_data"
    }
   ],
   "source": [
    "plt.plot(iters, accuracies, label = \"Training accuracy\")\n",
    "plt.legend()\n",
    "plt.xlabel(\"Epoch\")\n",
    "plt.ylabel(\"accuracy\")\n",
    "plt.title(\"Model performance using only relu\")\n",
    "plt.show()"
   ]
  },
  {
   "cell_type": "code",
   "execution_count": 31,
   "metadata": {
    "execution": {
     "iopub.execute_input": "2022-12-21T16:18:58.417407Z",
     "iopub.status.busy": "2022-12-21T16:18:58.414550Z",
     "iopub.status.idle": "2022-12-21T16:18:58.468841Z",
     "shell.execute_reply": "2022-12-21T16:18:58.467186Z",
     "shell.execute_reply.started": "2022-12-21T16:18:58.417368Z"
    }
   },
   "outputs": [
    {
     "name": "stdout",
     "output_type": "stream",
     "text": [
      "Accuracy of model on test data is =  84.58\n"
     ]
    }
   ],
   "source": [
    "_, _, _, A2 = forward_pass(W1, b1, W2, b2, X_test)\n",
    "predictions = np.argmax(A2, 0)\n",
    "test_accuracy = np.sum(predictions == Y_test) / Y_test.size\n",
    "print(\"Accuracy of model on test data is = \",100 * test_accuracy)"
   ]
  },
  {
   "cell_type": "markdown",
   "metadata": {},
   "source": [
    "**NN using Sigmoid Only**"
   ]
  },
  {
   "cell_type": "code",
   "execution_count": 32,
   "metadata": {
    "execution": {
     "iopub.execute_input": "2022-12-21T16:18:58.478054Z",
     "iopub.status.busy": "2022-12-21T16:18:58.475943Z",
     "iopub.status.idle": "2022-12-21T16:18:58.501121Z",
     "shell.execute_reply": "2022-12-21T16:18:58.499722Z",
     "shell.execute_reply.started": "2022-12-21T16:18:58.477973Z"
    }
   },
   "outputs": [],
   "source": [
    "def forward_pass(W1, b1, W2, b2, X):\n",
    "    m1 = W1.dot(X) + b1\n",
    "    n1 = sigmoid(m1)\n",
    "    m2 = W2.dot(n1) + b2\n",
    "    n2 = softmax(m2)\n",
    "    return m1, n1, m2, n2\n",
    "\n",
    "\n",
    "def backward_pass(Z1, A1, Z2, A2, W1, W2, X, Y ,m):\n",
    "    one_hot_Y = one_hot_encoding(Y)\n",
    "    dZ2 = A2 - one_hot_Y\n",
    "    dW2 = 1 / m * dZ2.dot(A1.T)\n",
    "    db2 = 1 / m * np.sum(dZ2)\n",
    "    dZ1 = W2.T.dot(dZ2) * sigmoid_derivative(Z1)\n",
    "    dW1 = 1 / m * dZ1.dot(X.T)\n",
    "    db1 = 1 / m * np.sum(dZ1)\n",
    "    return dW1, db1, dW2, db2"
   ]
  },
  {
   "cell_type": "code",
   "execution_count": 33,
   "metadata": {
    "execution": {
     "iopub.execute_input": "2022-12-21T16:18:58.509457Z",
     "iopub.status.busy": "2022-12-21T16:18:58.506649Z",
     "iopub.status.idle": "2022-12-21T16:21:47.574727Z",
     "shell.execute_reply": "2022-12-21T16:21:47.573658Z",
     "shell.execute_reply.started": "2022-12-21T16:18:58.509405Z"
    }
   },
   "outputs": [
    {
     "name": "stdout",
     "output_type": "stream",
     "text": [
      "Iteration:  0\n",
      "0.11346666666666666\n",
      "Iteration:  50\n",
      "0.239\n",
      "Iteration:  100\n",
      "0.3504333333333333\n",
      "Iteration:  150\n",
      "0.4368666666666667\n",
      "Iteration:  200\n",
      "0.5083166666666666\n",
      "Iteration:  250\n",
      "0.5622333333333334\n",
      "Iteration:  300\n",
      "0.6025\n",
      "Iteration:  350\n",
      "0.6366833333333334\n",
      "Iteration:  400\n",
      "0.66635\n",
      "Iteration:  450\n",
      "0.6897166666666666\n",
      "Iteration:  500\n",
      "0.7083166666666667\n",
      "Iteration:  550\n",
      "0.7236666666666667\n",
      "Iteration:  600\n",
      "0.7371\n",
      "Iteration:  650\n",
      "0.7485\n",
      "Iteration:  700\n",
      "0.7583833333333333\n",
      "Model is not improving at a rapid rate, stopping early\n",
      "Model accuracy is =  75.83833333333332\n"
     ]
    }
   ],
   "source": [
    "alpha = 0.1\n",
    "m = 60000\n",
    "iterations = 1000\n",
    "W1, b1, W2, b2, iters,accuracies = gradient_descent(X_train, Y_train, alpha, iterations , m)"
   ]
  },
  {
   "cell_type": "code",
   "execution_count": 34,
   "metadata": {
    "execution": {
     "iopub.execute_input": "2022-12-21T16:21:47.583400Z",
     "iopub.status.busy": "2022-12-21T16:21:47.576053Z",
     "iopub.status.idle": "2022-12-21T16:21:47.806410Z",
     "shell.execute_reply": "2022-12-21T16:21:47.805491Z",
     "shell.execute_reply.started": "2022-12-21T16:21:47.583344Z"
    }
   },
   "outputs": [
    {
     "data": {
      "image/png": "[encoded data removed]",
      "text/plain": [
       "<Figure size 432x288 with 1 Axes>"
      ]
     },
     "metadata": {
      "needs_background": "light"
     },
     "output_type": "display_data"
    }
   ],
   "source": [
    "plt.plot(iters, accuracies, label = \"Training accuracy\")\n",
    "plt.legend()\n",
    "plt.xlabel(\"Epoch\")\n",
    "plt.ylabel(\"accuracy\")\n",
    "plt.title(\"Model performance using only sigmoid\")\n",
    "plt.show()"
   ]
  },
  {
   "cell_type": "code",
   "execution_count": 35,
   "metadata": {
    "execution": {
     "iopub.execute_input": "2022-12-21T16:21:47.808319Z",
     "iopub.status.busy": "2022-12-21T16:21:47.807638Z",
     "iopub.status.idle": "2022-12-21T16:21:47.844894Z",
     "shell.execute_reply": "2022-12-21T16:21:47.843922Z",
     "shell.execute_reply.started": "2022-12-21T16:21:47.808280Z"
    }
   },
   "outputs": [
    {
     "name": "stdout",
     "output_type": "stream",
     "text": [
      "Accuracy of model on test data is =  77.03\n"
     ]
    }
   ],
   "source": [
    "_, _, _, A2 = forward_pass(W1, b1, W2, b2, X_test)\n",
    "predictions = np.argmax(A2, 0)\n",
    "test_accuracy = np.sum(predictions == Y_test) / Y_test.size\n",
    "print(\"Accuracy of model on test data is = \",100 * test_accuracy)"
   ]
  },
  {
   "cell_type": "markdown",
   "metadata": {},
   "source": [
    "**NN using relu with dropout layer**"
   ]
  },
  {
   "cell_type": "code",
   "execution_count": 36,
   "metadata": {
    "execution": {
     "iopub.execute_input": "2022-12-21T16:21:47.846987Z",
     "iopub.status.busy": "2022-12-21T16:21:47.846372Z",
     "iopub.status.idle": "2022-12-21T16:21:47.855791Z",
     "shell.execute_reply": "2022-12-21T16:21:47.854600Z",
     "shell.execute_reply.started": "2022-12-21T16:21:47.846949Z"
    }
   },
   "outputs": [],
   "source": [
    "def forward_pass(W1, b1, W2, b2, X):\n",
    "    m1 = W1.dot(X) + b1\n",
    "    n1 = relu(m1)\n",
    "    d = dropout(n1,0.04)\n",
    "    m2 = W2.dot(d) + b2\n",
    "    n2 = softmax(m2)\n",
    "    return m1, n1, m2, n2\n",
    "\n",
    "\n",
    "def backward_pass(Z1, A1, Z2, A2, W1, W2, X, Y ,m):\n",
    "    one_hot_Y = one_hot_encoding(Y)\n",
    "    dZ2 = A2 - one_hot_Y\n",
    "    dW2 = 1 / m * dZ2.dot(A1.T)\n",
    "    db2 = 1 / m * np.sum(dZ2)\n",
    "    dZ1 = W2.T.dot(dZ2) * relu_derivative(Z1)\n",
    "    dW1 = 1 / m * dZ1.dot(X.T)\n",
    "    db1 = 1 / m * np.sum(dZ1)\n",
    "    return dW1, db1, dW2, db2"
   ]
  },
  {
   "cell_type": "code",
   "execution_count": 37,
   "metadata": {
    "execution": {
     "iopub.execute_input": "2022-12-21T16:21:47.858392Z",
     "iopub.status.busy": "2022-12-21T16:21:47.857518Z",
     "iopub.status.idle": "2022-12-21T16:22:50.240028Z",
     "shell.execute_reply": "2022-12-21T16:22:50.235292Z",
     "shell.execute_reply.started": "2022-12-21T16:21:47.858341Z"
    }
   },
   "outputs": [
    {
     "name": "stdout",
     "output_type": "stream",
     "text": [
      "Iteration:  0\n",
      "0.1091\n",
      "Iteration:  50\n",
      "0.11443333333333333\n",
      "Iteration:  100\n",
      "0.11431666666666666\n",
      "Iteration:  150\n",
      "0.1151\n",
      "Iteration:  200\n",
      "0.1146\n",
      "Iteration:  250\n",
      "0.11646666666666666\n",
      "Model is not improving at a rapid rate, stopping early\n",
      "Model accuracy is =  11.646666666666667\n"
     ]
    }
   ],
   "source": [
    "alpha = 0.10\n",
    "m = 60000\n",
    "iterations = 1000\n",
    "W1, b1, W2, b2, iters,accuracies = gradient_descent(X_train, Y_train, alpha, iterations , m)"
   ]
  },
  {
   "cell_type": "code",
   "execution_count": 38,
   "metadata": {
    "execution": {
     "iopub.execute_input": "2022-12-21T16:22:50.242267Z",
     "iopub.status.busy": "2022-12-21T16:22:50.241669Z",
     "iopub.status.idle": "2022-12-21T16:22:50.470116Z",
     "shell.execute_reply": "2022-12-21T16:22:50.468993Z",
     "shell.execute_reply.started": "2022-12-21T16:22:50.242226Z"
    }
   },
   "outputs": [
    {
     "data": {
      "image/png": "[encoded data removed]",
      "text/plain": [
       "<Figure size 432x288 with 1 Axes>"
      ]
     },
     "metadata": {
      "needs_background": "light"
     },
     "output_type": "display_data"
    }
   ],
   "source": [
    "plt.plot(iters, accuracies, label = \"Training accuracy\")\n",
    "plt.legend()\n",
    "plt.xlabel(\"Epoch\")\n",
    "plt.ylabel(\"accuracy\")\n",
    "plt.title(\"Model performance using Relu with dropout layer\")\n",
    "plt.show()"
   ]
  },
  {
   "cell_type": "code",
   "execution_count": 39,
   "metadata": {
    "execution": {
     "iopub.execute_input": "2022-12-21T16:22:50.473319Z",
     "iopub.status.busy": "2022-12-21T16:22:50.471563Z",
     "iopub.status.idle": "2022-12-21T16:22:50.509867Z",
     "shell.execute_reply": "2022-12-21T16:22:50.508901Z",
     "shell.execute_reply.started": "2022-12-21T16:22:50.473280Z"
    }
   },
   "outputs": [
    {
     "name": "stdout",
     "output_type": "stream",
     "text": [
      "Accuracy of model on test data is =  11.17\n"
     ]
    }
   ],
   "source": [
    "_, _, _, A2 = forward_pass(W1, b1, W2, b2, X_test)\n",
    "predictions = np.argmax(A2, 0)\n",
    "test_accuracy = np.sum(predictions == Y_test) / Y_test.size\n",
    "print(\"Accuracy of model on test data is = \",100 * test_accuracy)"
   ]
  },
  {
   "cell_type": "markdown",
   "metadata": {},
   "source": [
    "**NN using Sigmoid with dropout layer**"
   ]
  },
  {
   "cell_type": "code",
   "execution_count": 40,
   "metadata": {
    "execution": {
     "iopub.execute_input": "2022-12-21T16:22:50.519552Z",
     "iopub.status.busy": "2022-12-21T16:22:50.518670Z",
     "iopub.status.idle": "2022-12-21T16:22:50.528796Z",
     "shell.execute_reply": "2022-12-21T16:22:50.527613Z",
     "shell.execute_reply.started": "2022-12-21T16:22:50.519515Z"
    }
   },
   "outputs": [],
   "source": [
    "def forward_pass(W1, b1, W2, b2, X):\n",
    "    m1 = W1.dot(X) + b1\n",
    "    n1 = sigmoid(m1)\n",
    "    d = dropout(n1,0.4)\n",
    "    m2 = W2.dot(d) + b2\n",
    "    n2 = softmax(m2)\n",
    "    return m1, n1, m2, n2\n",
    "\n",
    "\n",
    "def backward_pass(Z1, A1, Z2, A2, W1, W2, X, Y ,m):\n",
    "    one_hot_Y = one_hot_encoding(Y)\n",
    "    dZ2 = A2 - one_hot_Y\n",
    "    dW2 = 1 / m * dZ2.dot(A1.T)\n",
    "    db2 = 1 / m * np.sum(dZ2)\n",
    "    dZ1 = W2.T.dot(dZ2) * sigmoid_derivative(Z1)\n",
    "    dW1 = 1 / m * dZ1.dot(X.T)\n",
    "    db1 = 1 / m * np.sum(dZ1)\n",
    "    return dW1, db1, dW2, db2"
   ]
  },
  {
   "cell_type": "code",
   "execution_count": 41,
   "metadata": {
    "execution": {
     "iopub.execute_input": "2022-12-21T16:22:50.531134Z",
     "iopub.status.busy": "2022-12-21T16:22:50.530442Z",
     "iopub.status.idle": "2022-12-21T16:24:50.069994Z",
     "shell.execute_reply": "2022-12-21T16:24:50.069077Z",
     "shell.execute_reply.started": "2022-12-21T16:22:50.531098Z"
    }
   },
   "outputs": [
    {
     "name": "stdout",
     "output_type": "stream",
     "text": [
      "Iteration:  0\n",
      "0.0957\n",
      "Iteration:  50\n",
      "0.14425\n",
      "Iteration:  100\n",
      "0.19421666666666668\n",
      "Iteration:  150\n",
      "0.22485\n",
      "Iteration:  200\n",
      "0.24768333333333334\n",
      "Iteration:  250\n",
      "0.2616\n",
      "Iteration:  300\n",
      "0.2696\n",
      "Iteration:  350\n",
      "0.27576666666666666\n",
      "Iteration:  400\n",
      "0.2841\n",
      "Iteration:  450\n",
      "0.28895\n",
      "Model is not improving at a rapid rate, stopping early\n",
      "Model accuracy is =  28.895\n"
     ]
    }
   ],
   "source": [
    "alpha = 0.10\n",
    "m = 60000\n",
    "iterations = 1000\n",
    "W1, b1, W2, b2, iters,accuracies = gradient_descent(X_train, Y_train, alpha, iterations , m)"
   ]
  },
  {
   "cell_type": "code",
   "execution_count": 42,
   "metadata": {
    "execution": {
     "iopub.execute_input": "2022-12-21T16:24:50.076486Z",
     "iopub.status.busy": "2022-12-21T16:24:50.075010Z",
     "iopub.status.idle": "2022-12-21T16:24:50.332285Z",
     "shell.execute_reply": "2022-12-21T16:24:50.331332Z",
     "shell.execute_reply.started": "2022-12-21T16:24:50.076450Z"
    }
   },
   "outputs": [
    {
     "data": {
      "image/png": "[encoded data removed]",
      "text/plain": [
       "<Figure size 432x288 with 1 Axes>"
      ]
     },
     "metadata": {
      "needs_background": "light"
     },
     "output_type": "display_data"
    }
   ],
   "source": [
    "plt.plot(iters, accuracies, label = \"Training accuracy\")\n",
    "plt.legend()\n",
    "plt.xlabel(\"Epoch\")\n",
    "plt.ylabel(\"accuracy\")\n",
    "plt.title(\"Model performance using Sigmoid with dropout layer\")\n",
    "plt.show()"
   ]
  },
  {
   "cell_type": "code",
   "execution_count": 43,
   "metadata": {
    "execution": {
     "iopub.execute_input": "2022-12-21T16:24:50.333953Z",
     "iopub.status.busy": "2022-12-21T16:24:50.333426Z",
     "iopub.status.idle": "2022-12-21T16:24:50.378291Z",
     "shell.execute_reply": "2022-12-21T16:24:50.377322Z",
     "shell.execute_reply.started": "2022-12-21T16:24:50.333918Z"
    }
   },
   "outputs": [
    {
     "name": "stdout",
     "output_type": "stream",
     "text": [
      "Accuracy of model on test data is =  29.67\n"
     ]
    }
   ],
   "source": [
    "_, _, _, A2 = forward_pass(W1, b1, W2, b2, X_test)\n",
    "predictions = np.argmax(A2, 0)\n",
    "test_accuracy = np.sum(predictions == Y_test) / Y_test.size\n",
    "print(\"Accuracy of model on test data is = \",100 * test_accuracy)"
   ]
  }
 ],
 "metadata": {
  "kernelspec": {
   "display_name": "Python 3 (ipykernel)",
   "language": "python",
   "name": "python3"
  },
  "language_info": {
   "codemirror_mode": {
    "name": "ipython",
    "version": 3
   },
   "file_extension": ".py",
   "mimetype": "text/x-python",
   "name": "python",
   "nbconvert_exporter": "python",
   "pygments_lexer": "ipython3",
   "version": "3.9.7"
  }
 },
 "nbformat": 4,
 "nbformat_minor": 4
}
